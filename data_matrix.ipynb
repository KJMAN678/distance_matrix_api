{
 "cells": [
  {
   "cell_type": "code",
   "execution_count": 29,
   "id": "commercial-draft",
   "metadata": {},
   "outputs": [],
   "source": [
    "import requests\n",
    "import json"
   ]
  },
  {
   "cell_type": "code",
   "execution_count": 30,
   "id": "cathedral-intermediate",
   "metadata": {},
   "outputs": [],
   "source": [
    "API_KEY = \"xxx\" # APIキーを更新"
   ]
  },
  {
   "cell_type": "markdown",
   "id": "pregnant-ecuador",
   "metadata": {},
   "source": [
    "## 座標"
   ]
  },
  {
   "cell_type": "code",
   "execution_count": 81,
   "id": "fleet-thinking",
   "metadata": {},
   "outputs": [
    {
     "name": "stdout",
     "output_type": "stream",
     "text": [
      "出発点: P.O. Box 793, Brooklyn, NY 11207, USA\n",
      "到着点: 585 Schenectady Ave, Brooklyn, NY 11203, USA\n",
      "移動時間: 1152 秒\n",
      "\n",
      "出発点: P.O. Box 793, Brooklyn, NY 11207, USA\n",
      "到着点: 102-01 66th Rd, Queens, NY 11375, USA\n",
      "移動時間: 1439 秒\n",
      "\n"
     ]
    }
   ],
   "source": [
    "START = \"40.6655101%2C-73.89188969999998\"\n",
    "END1 = \"40.659569%2C-73.933783\"\n",
    "END2 = \"40.729029%2C-73.851524\"\n",
    "\n",
    "url = f\"https://maps.googleapis.com/maps/api/distancematrix/json?\\\n",
    "origins={START}&\\\n",
    "destinations={END1}\\\n",
    "%7C\\\n",
    "{END2}\\\n",
    "&\\\n",
    "key={API_KEY}\"\n",
    "\n",
    "payload={}\n",
    "headers = {}\n",
    "\n",
    "response = requests.request(\"GET\", url, headers=headers, data=payload)\n",
    "\n",
    "data = json.loads(response.text)\n",
    "\n",
    "for i in range(len(data[\"rows\"])):\n",
    "    for j in range(len(data[\"rows\"][i][\"elements\"])):\n",
    "        print(\"出発点:\", data[\"origin_addresses\"][i])\n",
    "        print(\"到着点:\", data[\"destination_addresses\"][j])\n",
    "        print(\"移動時間:\", data[\"rows\"][i][\"elements\"][j][\"duration\"][\"value\"], \"秒\")\n",
    "        print()"
   ]
  },
  {
   "cell_type": "markdown",
   "id": "white-details",
   "metadata": {},
   "source": [
    "## 住所"
   ]
  },
  {
   "cell_type": "code",
   "execution_count": 80,
   "id": "sapphire-remainder",
   "metadata": {},
   "outputs": [
    {
     "name": "stdout",
     "output_type": "stream",
     "text": [
      "出発地点: Boston, MA, USA 目的地: Lexington, MA, USA 移動時間: 1785 秒\n",
      "出発地点: Charlestown, Boston, MA, USA 目的地: Concord, MA, USA 移動時間: 1989 秒\n",
      "出発点: Boston, MA, USA\n",
      "到着点: Lexington, MA, USA\n",
      "移動時間: 1785 秒\n",
      "\n",
      "出発点: Boston, MA, USA\n",
      "到着点: Concord, MA, USA\n",
      "移動時間: 1989 秒\n",
      "\n",
      "出発点: Charlestown, Boston, MA, USA\n",
      "到着点: Lexington, MA, USA\n",
      "移動時間: 1718 秒\n",
      "\n",
      "出発点: Charlestown, Boston, MA, USA\n",
      "到着点: Concord, MA, USA\n",
      "移動時間: 1921 秒\n",
      "\n"
     ]
    }
   ],
   "source": [
    "START1 = \"Boston%2CMA\"\n",
    "START2 = \"Charlestown%2CMA\"\n",
    "END1 = \"Lexington%2CMA\"\n",
    "END2 = \"Concord%2CMA\"\n",
    "\n",
    "url = f\"https://maps.googleapis.com/maps/api/distancematrix/json?\\\n",
    "origins={START1}%7C{START2}\\\n",
    "&destinations={END1}%7C{END2}\\\n",
    "&departure_time=now&\\\n",
    "key={API_KEY}\"\n",
    "\n",
    "payload={}\n",
    "headers = {}\n",
    "\n",
    "# APIからレスポンス取得\n",
    "response = requests.request(\"GET\", url, headers=headers, data=payload)\n",
    "\n",
    "# 辞書型ファイルに変換\n",
    "data = json.loads(response.text)\n",
    "    \n",
    "# 出発点～到着点間の移動時間(秒)を出力\n",
    "for i in range(len(data[\"rows\"])):\n",
    "    for j in range(len(data[\"rows\"][i][\"elements\"])):\n",
    "        print(\"出発点:\", data[\"origin_addresses\"][i])\n",
    "        print(\"到着点:\", data[\"destination_addresses\"][j])\n",
    "        print(\"移動時間:\", data[\"rows\"][i][\"elements\"][j][\"duration\"][\"value\"], \"秒\")\n",
    "        print()"
   ]
  },
  {
   "cell_type": "markdown",
   "id": "challenging-essence",
   "metadata": {},
   "source": [
    "## 住所(日本)"
   ]
  },
  {
   "cell_type": "code",
   "execution_count": 78,
   "id": "critical-receiver",
   "metadata": {},
   "outputs": [
    {
     "name": "stdout",
     "output_type": "stream",
     "text": [
      "出発点: Tokyo Station, 1-chōme-9 Marunouchi, Chiyoda City, Tokyo 100-0005, Japan\n",
      "到着点: Asakusa Sta., 1 Chome-1-3 Asakusa, Taito City, Tokyo 111-0032, Japan\n",
      "移動時間: 826 秒\n",
      "\n",
      "出発点: Tokyo Station, 1-chōme-9 Marunouchi, Chiyoda City, Tokyo 100-0005, Japan\n",
      "到着点: Sakaeeki, Nagoya, Aichi, Japan\n",
      "移動時間: 15081 秒\n",
      "\n",
      "出発点: Nagoya Station, 1-chōme-1-4 Meieki, Nakamura Ward, Nagoya, Aichi 450-0002, Japan\n",
      "到着点: Asakusa Sta., 1 Chome-1-3 Asakusa, Taito City, Tokyo 111-0032, Japan\n",
      "移動時間: 15543 秒\n",
      "\n",
      "出発点: Nagoya Station, 1-chōme-1-4 Meieki, Nakamura Ward, Nagoya, Aichi 450-0002, Japan\n",
      "到着点: Sakaeeki, Nagoya, Aichi, Japan\n",
      "移動時間: 645 秒\n",
      "\n"
     ]
    }
   ],
   "source": [
    "START1 = \"東京駅\"\n",
    "START2 = \"名古屋駅\"\n",
    "END1 = \"浅草駅\"\n",
    "END2 = \"栄駅\"\n",
    "\n",
    "url = f\"https://maps.googleapis.com/maps/api/distancematrix/json?\\\n",
    "origins={START1}%7C{START2}\\\n",
    "&destinations={END1}%7C{END2}\\\n",
    "&departure_time=now&\\\n",
    "key={API_KEY}\"\n",
    "\n",
    "payload={}\n",
    "headers = {}\n",
    "\n",
    "# APIからレスポンス取得\n",
    "response = requests.request(\"GET\", url, headers=headers, data=payload)\n",
    "\n",
    "# 辞書型ファイルに変換\n",
    "data = json.loads(response.text)\n",
    "\n",
    "# 出発点～到着点間の移動時間(秒)を出力\n",
    "for i in range(len(data[\"rows\"])):\n",
    "    for j in range(len(data[\"rows\"][i][\"elements\"])):\n",
    "        print(\"出発点:\", data[\"origin_addresses\"][i])\n",
    "        print(\"到着点:\", data[\"destination_addresses\"][j])\n",
    "        print(\"移動時間:\", data[\"rows\"][i][\"elements\"][j][\"duration\"][\"value\"], \"秒\")\n",
    "        print()"
   ]
  }
 ],
 "metadata": {
  "kernelspec": {
   "display_name": "Python 3",
   "language": "python",
   "name": "python3"
  },
  "language_info": {
   "codemirror_mode": {
    "name": "ipython",
    "version": 3
   },
   "file_extension": ".py",
   "mimetype": "text/x-python",
   "name": "python",
   "nbconvert_exporter": "python",
   "pygments_lexer": "ipython3",
   "version": "3.8.8"
  }
 },
 "nbformat": 4,
 "nbformat_minor": 5
}
